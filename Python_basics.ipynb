{
  "cells": [
    {
      "cell_type": "markdown",
      "metadata": {
        "id": "view-in-github",
        "colab_type": "text"
      },
      "source": [
        "<a href=\"https://colab.research.google.com/github/Harini-0204/Projects-Using-Python/blob/main/Python_basics.ipynb\" target=\"_parent\"><img src=\"https://colab.research.google.com/assets/colab-badge.svg\" alt=\"Open In Colab\"/></a>"
      ]
    },
    {
      "cell_type": "code",
      "execution_count": null,
      "metadata": {
        "colab": {
          "base_uri": "https://localhost:8080/"
        },
        "id": "jo5myHftnupk",
        "outputId": "be384d68-00d5-4444-c6e3-355f8aca4c16"
      },
      "outputs": [
        {
          "name": "stdout",
          "output_type": "stream",
          "text": [
            "Enter your nameHarini\n"
          ]
        }
      ],
      "source": [
        "name=input(\"Enter your name\")"
      ]
    },
    {
      "cell_type": "code",
      "execution_count": null,
      "metadata": {
        "colab": {
          "base_uri": "https://localhost:8080/"
        },
        "id": "fj84tYqFpU5h",
        "outputId": "524b4f20-0e07-41d4-e994-6ca0552dac89"
      },
      "outputs": [
        {
          "name": "stdout",
          "output_type": "stream",
          "text": [
            "Harini\n"
          ]
        }
      ],
      "source": [
        "print(name)"
      ]
    },
    {
      "cell_type": "code",
      "execution_count": null,
      "metadata": {
        "colab": {
          "base_uri": "https://localhost:8080/"
        },
        "id": "3jRFe3FLphDO",
        "outputId": "c2deef75-325e-449a-c0cc-9237d944dcf8"
      },
      "outputs": [
        {
          "data": {
            "text/plain": [
              "str"
            ]
          },
          "execution_count": 4,
          "metadata": {},
          "output_type": "execute_result"
        }
      ],
      "source": [
        "type(name)"
      ]
    },
    {
      "cell_type": "code",
      "execution_count": null,
      "metadata": {
        "colab": {
          "base_uri": "https://localhost:8080/"
        },
        "id": "sW8DolYFpras",
        "outputId": "cffbeea6-d875-4b5d-d3e6-81fb5e38a344"
      },
      "outputs": [
        {
          "name": "stdout",
          "output_type": "stream",
          "text": [
            "enter your otp26698\n"
          ]
        }
      ],
      "source": [
        "otp=int(input(\"enter your otp\"))\n"
      ]
    },
    {
      "cell_type": "code",
      "execution_count": null,
      "metadata": {
        "colab": {
          "base_uri": "https://localhost:8080/"
        },
        "id": "6h2l6ga51PH1",
        "outputId": "81f3061b-62f6-4210-88a7-def0d3b869c9"
      },
      "outputs": [
        {
          "name": "stdout",
          "output_type": "stream",
          "text": [
            "26698\n"
          ]
        }
      ],
      "source": [
        "print(otp)"
      ]
    },
    {
      "cell_type": "code",
      "execution_count": null,
      "metadata": {
        "colab": {
          "base_uri": "https://localhost:8080/"
        },
        "id": "4b9bXzVd1rdv",
        "outputId": "f55461cd-7d6a-4e47-94e9-8b29280dc9bc"
      },
      "outputs": [
        {
          "data": {
            "text/plain": [
              "int"
            ]
          },
          "execution_count": 9,
          "metadata": {},
          "output_type": "execute_result"
        }
      ],
      "source": [
        "type(otp)"
      ]
    },
    {
      "cell_type": "code",
      "execution_count": null,
      "metadata": {
        "id": "ulbVeI7o14zq"
      },
      "outputs": [],
      "source": []
    },
    {
      "cell_type": "code",
      "execution_count": null,
      "metadata": {
        "colab": {
          "base_uri": "https://localhost:8080/"
        },
        "id": "4X9Hh8df2h_6",
        "outputId": "01254af6-9fbd-4b8d-c15e-59c7757c3107"
      },
      "outputs": [
        {
          "name": "stdout",
          "output_type": "stream",
          "text": [
            "Enter your temp45\n"
          ]
        }
      ],
      "source": [
        "temp=input(\"Enter your temp\")"
      ]
    },
    {
      "cell_type": "code",
      "execution_count": null,
      "metadata": {
        "colab": {
          "base_uri": "https://localhost:8080/"
        },
        "id": "0SqZxcvh3PNg",
        "outputId": "04b03f20-86c7-4683-c75d-a1d116941e82"
      },
      "outputs": [
        {
          "name": "stdout",
          "output_type": "stream",
          "text": [
            "45\n"
          ]
        }
      ],
      "source": [
        "print(temp)"
      ]
    },
    {
      "cell_type": "code",
      "execution_count": null,
      "metadata": {
        "colab": {
          "base_uri": "https://localhost:8080/"
        },
        "id": "2Pn_NQE93WOD",
        "outputId": "0413c139-034e-426e-ad27-56daa6d1d26a"
      },
      "outputs": [
        {
          "data": {
            "text/plain": [
              "str"
            ]
          },
          "execution_count": 13,
          "metadata": {},
          "output_type": "execute_result"
        }
      ],
      "source": [
        "type(temp)"
      ]
    },
    {
      "cell_type": "markdown",
      "metadata": {
        "id": "BynIsniI4G2m"
      },
      "source": [
        "Type casting"
      ]
    },
    {
      "cell_type": "code",
      "execution_count": null,
      "metadata": {
        "colab": {
          "base_uri": "https://localhost:8080/"
        },
        "id": "dlcn0drg3ZOD",
        "outputId": "765aedc2-6798-41ee-d565-8fc7257f8a6a"
      },
      "outputs": [
        {
          "name": "stdout",
          "output_type": "stream",
          "text": [
            "enter your temp28\n"
          ]
        }
      ],
      "source": [
        "temp=int(input(\"enter your temp\"))"
      ]
    },
    {
      "cell_type": "code",
      "execution_count": null,
      "metadata": {
        "colab": {
          "base_uri": "https://localhost:8080/"
        },
        "id": "95-qBOyq3hrv",
        "outputId": "7e8ef6d7-55ab-484b-db26-6c534d9a364d"
      },
      "outputs": [
        {
          "name": "stdout",
          "output_type": "stream",
          "text": [
            "28\n"
          ]
        }
      ],
      "source": [
        "print(temp)"
      ]
    },
    {
      "cell_type": "code",
      "execution_count": null,
      "metadata": {
        "colab": {
          "base_uri": "https://localhost:8080/"
        },
        "id": "Px1fSVkl3ne0",
        "outputId": "ca59ea3e-99a4-4dc4-ca95-0b5935b8b29e"
      },
      "outputs": [
        {
          "data": {
            "text/plain": [
              "int"
            ]
          },
          "execution_count": 17,
          "metadata": {},
          "output_type": "execute_result"
        }
      ],
      "source": [
        "type(temp)"
      ]
    },
    {
      "cell_type": "code",
      "execution_count": null,
      "metadata": {
        "colab": {
          "base_uri": "https://localhost:8080/"
        },
        "id": "IkcoMWG53p0u",
        "outputId": "0c22b8f1-f969-49ae-a9bb-8d6fd2d0c6d1"
      },
      "outputs": [
        {
          "name": "stdout",
          "output_type": "stream",
          "text": [
            "enter your temp52.3\n"
          ]
        }
      ],
      "source": [
        "temp=float(input(\"enter your temp\"))"
      ]
    },
    {
      "cell_type": "code",
      "execution_count": null,
      "metadata": {
        "colab": {
          "base_uri": "https://localhost:8080/"
        },
        "id": "Pp-ICEYc3wTN",
        "outputId": "7e28a776-3a54-48b9-ea0a-d3fde2f089c3"
      },
      "outputs": [
        {
          "name": "stdout",
          "output_type": "stream",
          "text": [
            "52.3\n"
          ]
        }
      ],
      "source": [
        "print(temp)"
      ]
    },
    {
      "cell_type": "code",
      "execution_count": null,
      "metadata": {
        "colab": {
          "base_uri": "https://localhost:8080/"
        },
        "id": "DDMkeYL93zVM",
        "outputId": "0532785e-caf5-47a6-b230-c68d2e9fdc41"
      },
      "outputs": [
        {
          "data": {
            "text/plain": [
              "float"
            ]
          },
          "execution_count": 20,
          "metadata": {},
          "output_type": "execute_result"
        }
      ],
      "source": [
        "type(temp)"
      ]
    },
    {
      "cell_type": "code",
      "execution_count": null,
      "metadata": {
        "colab": {
          "base_uri": "https://localhost:8080/"
        },
        "id": "ZCaNO1Qp31W5",
        "outputId": "15d55c72-b3e0-4bd8-fecf-e43c88caf4ab"
      },
      "outputs": [
        {
          "name": "stdout",
          "output_type": "stream",
          "text": [
            "enter your temp52\n"
          ]
        }
      ],
      "source": [
        "temp=float(input(\"enter your temp\"))"
      ]
    },
    {
      "cell_type": "code",
      "execution_count": null,
      "metadata": {
        "colab": {
          "base_uri": "https://localhost:8080/"
        },
        "id": "eZ3D1RP036oJ",
        "outputId": "ce11f450-d937-44b6-dcb1-36a1fc8561bb"
      },
      "outputs": [
        {
          "name": "stdout",
          "output_type": "stream",
          "text": [
            "52.0\n"
          ]
        }
      ],
      "source": [
        "print(temp)"
      ]
    },
    {
      "cell_type": "code",
      "execution_count": null,
      "metadata": {
        "colab": {
          "base_uri": "https://localhost:8080/"
        },
        "id": "sqyT2VnC39jp",
        "outputId": "fe033d4f-6f90-4e00-b0fb-8fe41a8f250d"
      },
      "outputs": [
        {
          "data": {
            "text/plain": [
              "float"
            ]
          },
          "execution_count": 23,
          "metadata": {},
          "output_type": "execute_result"
        }
      ],
      "source": [
        "type(temp)"
      ]
    },
    {
      "cell_type": "markdown",
      "metadata": {
        "id": "Ryw-qkwy4CQK"
      },
      "source": [
        "Mathematical operators\n",
        "+ - * / // ** %"
      ]
    },
    {
      "cell_type": "code",
      "execution_count": null,
      "metadata": {
        "id": "NnGytkdR4K2O"
      },
      "outputs": [],
      "source": [
        "a=10\n",
        "b=3"
      ]
    },
    {
      "cell_type": "code",
      "execution_count": null,
      "metadata": {
        "colab": {
          "base_uri": "https://localhost:8080/"
        },
        "id": "0orP1dwE4-1j",
        "outputId": "fcadd93c-8abf-4c52-bd4b-67d2786026e0"
      },
      "outputs": [
        {
          "name": "stdout",
          "output_type": "stream",
          "text": [
            "10\n"
          ]
        }
      ],
      "source": [
        "print(a)"
      ]
    },
    {
      "cell_type": "code",
      "execution_count": null,
      "metadata": {
        "colab": {
          "base_uri": "https://localhost:8080/"
        },
        "id": "YX5JFHNe5ANb",
        "outputId": "3782bd8b-3a6d-47c8-e7e4-549703b5e33c"
      },
      "outputs": [
        {
          "name": "stdout",
          "output_type": "stream",
          "text": [
            "3\n"
          ]
        }
      ],
      "source": [
        "print(a//b)"
      ]
    },
    {
      "cell_type": "code",
      "execution_count": null,
      "metadata": {
        "colab": {
          "base_uri": "https://localhost:8080/"
        },
        "id": "gKA6lOrI5eS1",
        "outputId": "77618f09-2d92-4eb8-ded2-5831e06457ea"
      },
      "outputs": [
        {
          "name": "stdout",
          "output_type": "stream",
          "text": [
            "1000\n"
          ]
        }
      ],
      "source": [
        "print(a**b)"
      ]
    },
    {
      "cell_type": "code",
      "execution_count": null,
      "metadata": {
        "colab": {
          "base_uri": "https://localhost:8080/"
        },
        "id": "IIvuBXmO5h9R",
        "outputId": "62372de2-58ad-4627-fe11-7fba6bd23c9d"
      },
      "outputs": [
        {
          "name": "stdout",
          "output_type": "stream",
          "text": [
            "1\n"
          ]
        }
      ],
      "source": [
        "print(a%b)"
      ]
    },
    {
      "cell_type": "markdown",
      "metadata": {
        "id": "hYR093Ox6ELZ"
      },
      "source": [
        "Compute 2 to the power of 5"
      ]
    },
    {
      "cell_type": "code",
      "execution_count": null,
      "metadata": {
        "colab": {
          "base_uri": "https://localhost:8080/"
        },
        "id": "fwLADKUX6JsF",
        "outputId": "6cf9f824-879b-4ae3-cb52-2c6f524f367b"
      },
      "outputs": [
        {
          "name": "stdout",
          "output_type": "stream",
          "text": [
            "32\n"
          ]
        }
      ],
      "source": [
        "print(2**5)"
      ]
    },
    {
      "cell_type": "code",
      "execution_count": null,
      "metadata": {
        "colab": {
          "base_uri": "https://localhost:8080/"
        },
        "id": "eV8l8jM65qYC",
        "outputId": "aadcc8ec-72e3-497f-d9d0-82c2b50da286"
      },
      "outputs": [
        {
          "name": "stdout",
          "output_type": "stream",
          "text": [
            "33554432\n"
          ]
        }
      ],
      "source": [
        "print(2**25)"
      ]
    },
    {
      "cell_type": "code",
      "execution_count": null,
      "metadata": {
        "colab": {
          "base_uri": "https://localhost:8080/"
        },
        "id": "9mW34W6y6QGj",
        "outputId": "c0b54d1b-5d0c-4e8e-96a3-4eed0c933ad5"
      },
      "outputs": [
        {
          "name": "stdout",
          "output_type": "stream",
          "text": [
            "32\n"
          ]
        }
      ],
      "source": [
        "d=2\n",
        "e=5\n",
        "print(d**e)"
      ]
    },
    {
      "cell_type": "code",
      "execution_count": null,
      "metadata": {
        "colab": {
          "base_uri": "https://localhost:8080/"
        },
        "id": "PagDbwiy6oMb",
        "outputId": "e7031781-61f3-4d56-8ca4-5adfaa56e782"
      },
      "outputs": [
        {
          "name": "stdout",
          "output_type": "stream",
          "text": [
            "2\n"
          ]
        }
      ],
      "source": [
        "print(a%b)"
      ]
    },
    {
      "cell_type": "markdown",
      "metadata": {
        "id": "bpWg22187FJA"
      },
      "source": [
        "Data types"
      ]
    },
    {
      "cell_type": "code",
      "execution_count": null,
      "metadata": {
        "colab": {
          "base_uri": "https://localhost:8080/"
        },
        "id": "3icNFgSf6ZBs",
        "outputId": "7c07910c-6c11-4d43-83c8-a6149830dfaf"
      },
      "outputs": [
        {
          "name": "stdout",
          "output_type": "stream",
          "text": [
            "10\n"
          ]
        }
      ],
      "source": [
        "a=10\n",
        "print(a)"
      ]
    },
    {
      "cell_type": "code",
      "execution_count": null,
      "metadata": {
        "colab": {
          "base_uri": "https://localhost:8080/"
        },
        "id": "vPYRM1MN7kSa",
        "outputId": "9e95bd9d-b1bb-4fac-d1a0-03248ccdf9f1"
      },
      "outputs": [
        {
          "data": {
            "text/plain": [
              "int"
            ]
          },
          "execution_count": 37,
          "metadata": {},
          "output_type": "execute_result"
        }
      ],
      "source": [
        "type(a)"
      ]
    },
    {
      "cell_type": "code",
      "execution_count": null,
      "metadata": {
        "colab": {
          "base_uri": "https://localhost:8080/"
        },
        "id": "LDSbAqp67ljB",
        "outputId": "c722ea5e-2550-46bb-b368-28225fa311ef"
      },
      "outputs": [
        {
          "name": "stdout",
          "output_type": "stream",
          "text": [
            "52.3\n"
          ]
        }
      ],
      "source": [
        "b=52.3\n",
        "print(b)"
      ]
    },
    {
      "cell_type": "code",
      "execution_count": null,
      "metadata": {
        "colab": {
          "base_uri": "https://localhost:8080/"
        },
        "id": "Qhy5P48O7nk2",
        "outputId": "0468c3ed-1194-46cf-f662-89861df1f20f"
      },
      "outputs": [
        {
          "data": {
            "text/plain": [
              "float"
            ]
          },
          "execution_count": 39,
          "metadata": {},
          "output_type": "execute_result"
        }
      ],
      "source": [
        "type(b)"
      ]
    },
    {
      "cell_type": "code",
      "execution_count": null,
      "metadata": {
        "colab": {
          "base_uri": "https://localhost:8080/"
        },
        "id": "DaQSVFWp7pX9",
        "outputId": "dc2dfb32-44d9-42cc-d165-ba5f43bd70fb"
      },
      "outputs": [
        {
          "name": "stdout",
          "output_type": "stream",
          "text": [
            "India\n"
          ]
        }
      ],
      "source": [
        "c='India'\n",
        "print(c)"
      ]
    },
    {
      "cell_type": "code",
      "execution_count": null,
      "metadata": {
        "colab": {
          "base_uri": "https://localhost:8080/"
        },
        "id": "xFsRuurT7tLz",
        "outputId": "a188668e-7127-41cf-db75-d3f45b1682e3"
      },
      "outputs": [
        {
          "data": {
            "text/plain": [
              "str"
            ]
          },
          "execution_count": 41,
          "metadata": {},
          "output_type": "execute_result"
        }
      ],
      "source": [
        "type(c)"
      ]
    },
    {
      "cell_type": "code",
      "execution_count": null,
      "metadata": {
        "colab": {
          "base_uri": "https://localhost:8080/"
        },
        "id": "TrIC6gFr7ufH",
        "outputId": "992fff21-e5c0-4ac6-e6d4-c0c0203e0540"
      },
      "outputs": [
        {
          "data": {
            "text/plain": [
              "str"
            ]
          },
          "execution_count": 43,
          "metadata": {},
          "output_type": "execute_result"
        }
      ],
      "source": [
        "d='45.45'\n",
        "type(d)"
      ]
    },
    {
      "cell_type": "code",
      "execution_count": null,
      "metadata": {
        "id": "FJVjFHnT74-S"
      },
      "outputs": [],
      "source": [
        "e=['India','Japan','US']"
      ]
    },
    {
      "cell_type": "code",
      "execution_count": null,
      "metadata": {
        "colab": {
          "base_uri": "https://localhost:8080/"
        },
        "id": "n0oAN3nT8QKy",
        "outputId": "9a795238-1fdf-446c-e41d-b9e657ca8410"
      },
      "outputs": [
        {
          "name": "stdout",
          "output_type": "stream",
          "text": [
            "['India', 'Japan', 'US']\n"
          ]
        }
      ],
      "source": [
        "print(e)"
      ]
    },
    {
      "cell_type": "code",
      "execution_count": null,
      "metadata": {
        "colab": {
          "base_uri": "https://localhost:8080/"
        },
        "id": "eK7xET168R4u",
        "outputId": "9e4adb92-6837-409e-bfaf-aaa5249f7157"
      },
      "outputs": [
        {
          "data": {
            "text/plain": [
              "list"
            ]
          },
          "execution_count": 46,
          "metadata": {},
          "output_type": "execute_result"
        }
      ],
      "source": [
        "type(e)"
      ]
    },
    {
      "cell_type": "code",
      "execution_count": null,
      "metadata": {
        "colab": {
          "base_uri": "https://localhost:8080/"
        },
        "id": "NH6vscnY8Us8",
        "outputId": "83c5a9af-6fb3-4566-e359-3e16f8aa13b9"
      },
      "outputs": [
        {
          "name": "stdout",
          "output_type": "stream",
          "text": [
            "['25', '36', '85', '99']\n"
          ]
        }
      ],
      "source": [
        "f=['25','36','85','99']\n",
        "print(f)"
      ]
    },
    {
      "cell_type": "code",
      "execution_count": null,
      "metadata": {
        "colab": {
          "base_uri": "https://localhost:8080/"
        },
        "id": "xLRG8EOo8ucK",
        "outputId": "ba7ef5b4-af50-44be-c09c-31293901636f"
      },
      "outputs": [
        {
          "data": {
            "text/plain": [
              "list"
            ]
          },
          "execution_count": 48,
          "metadata": {},
          "output_type": "execute_result"
        }
      ],
      "source": [
        "type(f)"
      ]
    },
    {
      "cell_type": "code",
      "execution_count": null,
      "metadata": {
        "colab": {
          "background_save": true
        },
        "id": "if_2af5p8wF8",
        "outputId": "5fe61d14-49cc-485b-c81a-74789f9bd9a2"
      },
      "outputs": [
        {
          "name": "stdout",
          "output_type": "stream",
          "text": [
            "['India', '88', '-96', '2.03']\n"
          ]
        }
      ],
      "source": [
        "g=['India','88','-96','2.03']\n",
        "print(g)"
      ]
    },
    {
      "cell_type": "code",
      "execution_count": null,
      "metadata": {
        "id": "YKS4ViK1865Y",
        "colab": {
          "base_uri": "https://localhost:8080/"
        },
        "outputId": "15e8cdeb-c03c-4185-812d-b245faf4aa52"
      },
      "outputs": [
        {
          "output_type": "execute_result",
          "data": {
            "text/plain": [
              "list"
            ]
          },
          "metadata": {},
          "execution_count": 52
        }
      ],
      "source": [
        "type(g)"
      ]
    },
    {
      "cell_type": "code",
      "source": [
        "a=50\n",
        "b=30\n",
        "print(a>b)"
      ],
      "metadata": {
        "colab": {
          "base_uri": "https://localhost:8080/"
        },
        "id": "5RNVpjrK9_uy",
        "outputId": "9fb0c27c-a986-4062-dfe2-afd99e40f3f8"
      },
      "execution_count": null,
      "outputs": [
        {
          "output_type": "stream",
          "name": "stdout",
          "text": [
            "True\n"
          ]
        }
      ]
    },
    {
      "cell_type": "code",
      "source": [
        "type(a>b)"
      ],
      "metadata": {
        "colab": {
          "base_uri": "https://localhost:8080/"
        },
        "id": "8_YBJBaW-D0r",
        "outputId": "2f905918-5368-4687-9ed8-9b72b1d086b4"
      },
      "execution_count": null,
      "outputs": [
        {
          "output_type": "execute_result",
          "data": {
            "text/plain": [
              "bool"
            ]
          },
          "metadata": {},
          "execution_count": 54
        }
      ]
    },
    {
      "cell_type": "markdown",
      "source": [
        "Operations on string and list\n",
        "1.concatenation\n",
        "2.Indexing\n",
        "3.Slicing\n"
      ],
      "metadata": {
        "id": "CgsQLdZK-IWX"
      }
    },
    {
      "cell_type": "markdown",
      "source": [
        "Concatenation in strings"
      ],
      "metadata": {
        "id": "D3hbDmiAAe7Z"
      }
    },
    {
      "cell_type": "code",
      "source": [
        "a='Indian'\n",
        "b='Ocean'\n",
        "print(a+b)"
      ],
      "metadata": {
        "colab": {
          "base_uri": "https://localhost:8080/"
        },
        "id": "hSkhCnQC-Gxd",
        "outputId": "25243dd4-865f-4d55-a1e9-b656e511dd0c"
      },
      "execution_count": null,
      "outputs": [
        {
          "output_type": "stream",
          "name": "stdout",
          "text": [
            "IndianOcean\n"
          ]
        }
      ]
    },
    {
      "cell_type": "code",
      "source": [
        "#space between indian and ocean(put a space between the single quotation)by default no space\n",
        "\n",
        "print(a +' '+b)"
      ],
      "metadata": {
        "colab": {
          "base_uri": "https://localhost:8080/"
        },
        "id": "IVdzd4OpA6Mj",
        "outputId": "50df6bb8-993e-4dbe-8032-936f1b8b8014"
      },
      "execution_count": null,
      "outputs": [
        {
          "output_type": "stream",
          "name": "stdout",
          "text": [
            "Indian Ocean\n"
          ]
        }
      ]
    },
    {
      "cell_type": "code",
      "source": [
        "a='Indian'\n",
        "b='Ocean'\n",
        "c='Our'\n",
        "d=c+' '+a+' '+b\n",
        "print(d)"
      ],
      "metadata": {
        "colab": {
          "base_uri": "https://localhost:8080/"
        },
        "id": "rgAtXY1DBHiq",
        "outputId": "f6557c46-828c-4ad8-dc7d-db4b175649e5"
      },
      "execution_count": null,
      "outputs": [
        {
          "output_type": "stream",
          "name": "stdout",
          "text": [
            "Our Indian Ocean\n"
          ]
        }
      ]
    },
    {
      "cell_type": "code",
      "source": [
        "print(c+a+b)"
      ],
      "metadata": {
        "colab": {
          "base_uri": "https://localhost:8080/"
        },
        "id": "CasSaBZrBmYj",
        "outputId": "c5950b70-6bab-4a32-c74c-ece9e34f9928"
      },
      "execution_count": null,
      "outputs": [
        {
          "output_type": "stream",
          "name": "stdout",
          "text": [
            "OurIndianOcean\n"
          ]
        }
      ]
    },
    {
      "cell_type": "code",
      "source": [
        "#space between indian and ocean and our(put a space between the single quotation)by default no space\n",
        "print(c+' '+a+' '+b)"
      ],
      "metadata": {
        "colab": {
          "base_uri": "https://localhost:8080/"
        },
        "id": "1ha7xA-iBpBw",
        "outputId": "247bb1b4-2091-4dca-c5fc-3995136a704f"
      },
      "execution_count": null,
      "outputs": [
        {
          "output_type": "stream",
          "name": "stdout",
          "text": [
            "Our Indian Ocean\n"
          ]
        }
      ]
    },
    {
      "cell_type": "code",
      "source": [
        "l1=[2,3,4,5,6]\n",
        "l2=['india','japan','china','US']\n",
        "print(l1+l2)\n"
      ],
      "metadata": {
        "colab": {
          "base_uri": "https://localhost:8080/"
        },
        "id": "DE-4s0LxCG07",
        "outputId": "c63bc691-db7a-41ee-dff9-99351f1e87c8"
      },
      "execution_count": null,
      "outputs": [
        {
          "output_type": "stream",
          "name": "stdout",
          "text": [
            "[2, 3, 4, 5, 6, 'india', 'japan', 'china', 'US']\n"
          ]
        }
      ]
    },
    {
      "cell_type": "markdown",
      "source": [
        "Input function and concatenation"
      ],
      "metadata": {
        "id": "uBcYfQdgDpBp"
      }
    },
    {
      "cell_type": "code",
      "source": [
        "name=input('enter your name')\n",
        "a='hi'\n",
        "b='good morning'\n",
        "c= 'how are you? hope you are having a good day'\n",
        "d = a+' '+name+' '+b+' '+c\n",
        "print(d)"
      ],
      "metadata": {
        "colab": {
          "base_uri": "https://localhost:8080/"
        },
        "id": "zQU7Xl1CCx2g",
        "outputId": "c853379b-4a7b-4724-8f0f-ec8c20f91828"
      },
      "execution_count": null,
      "outputs": [
        {
          "output_type": "stream",
          "name": "stdout",
          "text": [
            "enter your nameHarini\n",
            "hi Harini good morning how are you? hope you are having a good day\n"
          ]
        }
      ]
    },
    {
      "cell_type": "markdown",
      "source": [
        "Indexing and slicing in strings and list"
      ],
      "metadata": {
        "id": "G1ZeUpuVrh80"
      }
    },
    {
      "cell_type": "code",
      "source": [
        "q=\"United Nations\"\n",
        "q[0:4]"
      ],
      "metadata": {
        "colab": {
          "base_uri": "https://localhost:8080/",
          "height": 35
        },
        "id": "Pw5c2TrIDhOX",
        "outputId": "c1adff40-0f71-4c07-e282-c60dee4e3467"
      },
      "execution_count": null,
      "outputs": [
        {
          "output_type": "execute_result",
          "data": {
            "text/plain": [
              "'Unit'"
            ],
            "application/vnd.google.colaboratory.intrinsic+json": {
              "type": "string"
            }
          },
          "metadata": {},
          "execution_count": 1
        }
      ]
    },
    {
      "cell_type": "code",
      "source": [
        "q[-9]"
      ],
      "metadata": {
        "colab": {
          "base_uri": "https://localhost:8080/",
          "height": 35
        },
        "id": "nuVoQty8ruP9",
        "outputId": "38329f5a-ffb9-4ffe-f732-38e35d0fcf21"
      },
      "execution_count": null,
      "outputs": [
        {
          "output_type": "execute_result",
          "data": {
            "text/plain": [
              "'d'"
            ],
            "application/vnd.google.colaboratory.intrinsic+json": {
              "type": "string"
            }
          },
          "metadata": {},
          "execution_count": 3
        }
      ]
    },
    {
      "cell_type": "code",
      "source": [
        "q[6]"
      ],
      "metadata": {
        "colab": {
          "base_uri": "https://localhost:8080/",
          "height": 35
        },
        "id": "qEuoJg6Er8Vi",
        "outputId": "ca7d804f-8560-4391-fa76-969cc58fb23a"
      },
      "execution_count": null,
      "outputs": [
        {
          "output_type": "execute_result",
          "data": {
            "text/plain": [
              "' '"
            ],
            "application/vnd.google.colaboratory.intrinsic+json": {
              "type": "string"
            }
          },
          "metadata": {},
          "execution_count": 5
        }
      ]
    },
    {
      "cell_type": "code",
      "source": [
        "q[-9:]"
      ],
      "metadata": {
        "colab": {
          "base_uri": "https://localhost:8080/",
          "height": 35
        },
        "id": "zA3cHuN1sDib",
        "outputId": "96d3f7be-9bf6-44c1-aa7e-b5b27e1706ad"
      },
      "execution_count": null,
      "outputs": [
        {
          "output_type": "execute_result",
          "data": {
            "text/plain": [
              "'d Nations'"
            ],
            "application/vnd.google.colaboratory.intrinsic+json": {
              "type": "string"
            }
          },
          "metadata": {},
          "execution_count": 7
        }
      ]
    },
    {
      "cell_type": "code",
      "source": [
        "q[5:10]"
      ],
      "metadata": {
        "colab": {
          "base_uri": "https://localhost:8080/",
          "height": 35
        },
        "id": "mZgboIjIsLLm",
        "outputId": "bb2fcf11-24e9-4e92-a734-c12a02483cdd"
      },
      "execution_count": null,
      "outputs": [
        {
          "output_type": "execute_result",
          "data": {
            "text/plain": [
              "'d Nat'"
            ],
            "application/vnd.google.colaboratory.intrinsic+json": {
              "type": "string"
            }
          },
          "metadata": {},
          "execution_count": 8
        }
      ]
    },
    {
      "cell_type": "code",
      "source": [
        "q[ :-3]"
      ],
      "metadata": {
        "colab": {
          "base_uri": "https://localhost:8080/",
          "height": 35
        },
        "id": "w8yXTVsCsP51",
        "outputId": "90f9efb4-89ed-48f4-e922-68e05010ea6a"
      },
      "execution_count": null,
      "outputs": [
        {
          "output_type": "execute_result",
          "data": {
            "text/plain": [
              "'United Nati'"
            ],
            "application/vnd.google.colaboratory.intrinsic+json": {
              "type": "string"
            }
          },
          "metadata": {},
          "execution_count": 9
        }
      ]
    },
    {
      "cell_type": "code",
      "source": [
        "q[ : ]"
      ],
      "metadata": {
        "colab": {
          "base_uri": "https://localhost:8080/",
          "height": 35
        },
        "id": "p5QB7-3SsTq7",
        "outputId": "e93fd526-93a4-4c02-b4c6-50c9caf238de"
      },
      "execution_count": null,
      "outputs": [
        {
          "output_type": "execute_result",
          "data": {
            "text/plain": [
              "'United Nations'"
            ],
            "application/vnd.google.colaboratory.intrinsic+json": {
              "type": "string"
            }
          },
          "metadata": {},
          "execution_count": 10
        }
      ]
    },
    {
      "cell_type": "code",
      "source": [
        "q[6: ]"
      ],
      "metadata": {
        "colab": {
          "base_uri": "https://localhost:8080/",
          "height": 35
        },
        "id": "olbGWi9WsXi4",
        "outputId": "9026ee93-a5e9-4673-a149-0e4e7ce51275"
      },
      "execution_count": null,
      "outputs": [
        {
          "output_type": "execute_result",
          "data": {
            "text/plain": [
              "' Nations'"
            ],
            "application/vnd.google.colaboratory.intrinsic+json": {
              "type": "string"
            }
          },
          "metadata": {},
          "execution_count": 11
        }
      ]
    },
    {
      "cell_type": "code",
      "source": [
        "q[-6: ]"
      ],
      "metadata": {
        "colab": {
          "base_uri": "https://localhost:8080/",
          "height": 35
        },
        "id": "AFYKwBx3sawx",
        "outputId": "a4f0612d-f448-4939-96f1-afa473e48e93"
      },
      "execution_count": null,
      "outputs": [
        {
          "output_type": "execute_result",
          "data": {
            "text/plain": [
              "'ations'"
            ],
            "application/vnd.google.colaboratory.intrinsic+json": {
              "type": "string"
            }
          },
          "metadata": {},
          "execution_count": 12
        }
      ]
    },
    {
      "cell_type": "code",
      "source": [
        "q[-11:-1]"
      ],
      "metadata": {
        "colab": {
          "base_uri": "https://localhost:8080/",
          "height": 35
        },
        "id": "8FzUuS6Osjye",
        "outputId": "e0904eb2-7836-481b-d7ba-03c7947c77d8"
      },
      "execution_count": null,
      "outputs": [
        {
          "output_type": "execute_result",
          "data": {
            "text/plain": [
              "'ted Nation'"
            ],
            "application/vnd.google.colaboratory.intrinsic+json": {
              "type": "string"
            }
          },
          "metadata": {},
          "execution_count": 13
        }
      ]
    },
    {
      "cell_type": "code",
      "source": [
        "l1=['india','Bangladesh','China','Nepal',90,20,80,30,100,'Texas','California','New jersey']\n",
        "#[China,nepal,90,20,80]\n",
        "l1[2:7]"
      ],
      "metadata": {
        "colab": {
          "base_uri": "https://localhost:8080/"
        },
        "id": "gXLSoubBvVwh",
        "outputId": "e8a3adb2-36f7-4a8f-a3eb-5fce2e91945d"
      },
      "execution_count": null,
      "outputs": [
        {
          "output_type": "execute_result",
          "data": {
            "text/plain": [
              "['China', 'Nepal', 90, 20, 80]"
            ]
          },
          "metadata": {},
          "execution_count": 14
        }
      ]
    },
    {
      "cell_type": "code",
      "source": [
        "#100,texas,california,new jersey\n",
        "l1[8:]"
      ],
      "metadata": {
        "colab": {
          "base_uri": "https://localhost:8080/"
        },
        "id": "NdcdzM1Uv9Us",
        "outputId": "eb1eda53-2649-44f9-e6d9-4e66e394dd7c"
      },
      "execution_count": null,
      "outputs": [
        {
          "output_type": "execute_result",
          "data": {
            "text/plain": [
              "[100, 'Texas', 'California', 'New jersey']"
            ]
          },
          "metadata": {},
          "execution_count": 15
        }
      ]
    },
    {
      "cell_type": "code",
      "source": [
        "l1[8:12]"
      ],
      "metadata": {
        "colab": {
          "base_uri": "https://localhost:8080/"
        },
        "id": "jwn7XaXuwXBm",
        "outputId": "33269726-c467-4620-aa69-9fa945e368b1"
      },
      "execution_count": null,
      "outputs": [
        {
          "output_type": "execute_result",
          "data": {
            "text/plain": [
              "[100, 'Texas', 'California', 'New jersey']"
            ]
          },
          "metadata": {},
          "execution_count": 16
        }
      ]
    },
    {
      "cell_type": "code",
      "source": [
        "a=l1[-4:]\n",
        "print(a)"
      ],
      "metadata": {
        "colab": {
          "base_uri": "https://localhost:8080/"
        },
        "id": "O8KS_KUTwb-y",
        "outputId": "310eac86-7a9a-489d-cfec-01609e3b332e"
      },
      "execution_count": null,
      "outputs": [
        {
          "output_type": "stream",
          "name": "stdout",
          "text": [
            "[100, 'Texas', 'California', 'New jersey']\n"
          ]
        }
      ]
    },
    {
      "cell_type": "code",
      "source": [
        "l1=['india','Bangladesh','China','Nepal',90,20,80,30,100,'Texas','California','New jersey']\n",
        "b=l1[1:4]\n",
        "print(b)"
      ],
      "metadata": {
        "colab": {
          "base_uri": "https://localhost:8080/"
        },
        "id": "DCyG6TZyyEfX",
        "outputId": "7a068376-3c89-4825-ce0f-fc415b5f5322"
      },
      "execution_count": null,
      "outputs": [
        {
          "output_type": "stream",
          "name": "stdout",
          "text": [
            "['Bangladesh', 'China', 'Nepal']\n"
          ]
        }
      ]
    },
    {
      "cell_type": "code",
      "source": [
        "l1[9:]"
      ],
      "metadata": {
        "colab": {
          "base_uri": "https://localhost:8080/"
        },
        "id": "QiCkHqO-yL3c",
        "outputId": "0e85a3a9-54fd-46b6-ba46-b9d33f75ee70"
      },
      "execution_count": null,
      "outputs": [
        {
          "output_type": "execute_result",
          "data": {
            "text/plain": [
              "['Texas', 'California', 'New jersey']"
            ]
          },
          "metadata": {},
          "execution_count": 22
        }
      ]
    },
    {
      "cell_type": "code",
      "source": [
        "print(l1[1:4]+l1[9:])"
      ],
      "metadata": {
        "colab": {
          "base_uri": "https://localhost:8080/"
        },
        "id": "wIOwECQ3yg5_",
        "outputId": "889f3fce-c845-4066-fb22-b6e39071fc7e"
      },
      "execution_count": null,
      "outputs": [
        {
          "output_type": "stream",
          "name": "stdout",
          "text": [
            "['Bangladesh', 'China', 'Nepal', 'Texas', 'California', 'New jersey']\n"
          ]
        }
      ]
    },
    {
      "cell_type": "code",
      "source": [
        "print(a+b)"
      ],
      "metadata": {
        "id": "X-JbC67DzQ5s",
        "outputId": "021ae257-d3cd-4647-b519-b689e4469bb0",
        "colab": {
          "base_uri": "https://localhost:8080/"
        }
      },
      "execution_count": null,
      "outputs": [
        {
          "output_type": "stream",
          "name": "stdout",
          "text": [
            "[100, 'Texas', 'California', 'New jersey', 'Bangladesh', 'China', 'Nepal']\n"
          ]
        }
      ]
    },
    {
      "cell_type": "markdown",
      "source": [
        "Slicing on Nested list"
      ],
      "metadata": {
        "id": "hq-5KHo-G4Ot"
      }
    },
    {
      "cell_type": "code",
      "source": [
        "l1=[20,25,60,-45,['Delhi','Mumbai','pune','vellore']]\n",
        "l1[0:2]\n"
      ],
      "metadata": {
        "colab": {
          "base_uri": "https://localhost:8080/"
        },
        "id": "-rNAA_8Z-tTN",
        "outputId": "f6ed7605-1e23-494c-a275-ab24661247cd"
      },
      "execution_count": null,
      "outputs": [
        {
          "output_type": "execute_result",
          "data": {
            "text/plain": [
              "[20, 25]"
            ]
          },
          "metadata": {},
          "execution_count": 8
        }
      ]
    },
    {
      "cell_type": "code",
      "source": [
        "l1[4][0:2]"
      ],
      "metadata": {
        "colab": {
          "base_uri": "https://localhost:8080/"
        },
        "id": "SYIKhktJFsqS",
        "outputId": "bace89e4-0de0-43c1-ce6c-3a5dfe12db15"
      },
      "execution_count": null,
      "outputs": [
        {
          "output_type": "execute_result",
          "data": {
            "text/plain": [
              "['Delhi', 'Mumbai']"
            ]
          },
          "metadata": {},
          "execution_count": 9
        }
      ]
    },
    {
      "cell_type": "code",
      "source": [
        "print(l1[0:2]+l1[4][0:2])"
      ],
      "metadata": {
        "colab": {
          "base_uri": "https://localhost:8080/"
        },
        "id": "H7yY35_JGhZU",
        "outputId": "0f6cd025-8cec-4c74-93a2-acc435ac38fd"
      },
      "execution_count": null,
      "outputs": [
        {
          "output_type": "stream",
          "name": "stdout",
          "text": [
            "[20, 25, 'Delhi', 'Mumbai']\n"
          ]
        }
      ]
    },
    {
      "cell_type": "markdown",
      "source": [
        "Built in functions for strings and list"
      ],
      "metadata": {
        "id": "twZfb_jxUGOG"
      }
    },
    {
      "cell_type": "code",
      "source": [
        "#append() func\n",
        "l1=['AI','Python','NLP','CV','R']\n",
        "l1.append('ML')\n",
        "print(l1)"
      ],
      "metadata": {
        "colab": {
          "base_uri": "https://localhost:8080/"
        },
        "id": "IwIh7idKG0Y1",
        "outputId": "19104859-4fb0-4c6a-fc9b-a04942fd7ca8"
      },
      "execution_count": null,
      "outputs": [
        {
          "output_type": "stream",
          "name": "stdout",
          "text": [
            "['AI', 'Python', 'NLP', 'CV', 'R', 'ML']\n"
          ]
        }
      ]
    },
    {
      "cell_type": "code",
      "source": [
        "#insert() func\n",
        "l1.insert(0,'NLP')\n",
        "print(l1)\n"
      ],
      "metadata": {
        "colab": {
          "base_uri": "https://localhost:8080/"
        },
        "id": "9ZqZz0NzUf_o",
        "outputId": "97d6de08-00b1-42e1-fdda-28cb16363809"
      },
      "execution_count": null,
      "outputs": [
        {
          "output_type": "stream",
          "name": "stdout",
          "text": [
            "['NLP', 'AI', 'Python', 'NLP', 'CV', 'R', 'ML']\n"
          ]
        }
      ]
    },
    {
      "cell_type": "code",
      "source": [
        "#remove() func\n",
        "l1.remove('NLP')\n",
        "print(l1)"
      ],
      "metadata": {
        "colab": {
          "base_uri": "https://localhost:8080/"
        },
        "id": "Bsfvpu-qU0XV",
        "outputId": "0ad32220-0c1b-44ea-d055-57c6ab478234"
      },
      "execution_count": null,
      "outputs": [
        {
          "output_type": "stream",
          "name": "stdout",
          "text": [
            "['AI', 'Python', 'NLP', 'CV', 'R', 'ML']\n"
          ]
        }
      ]
    },
    {
      "cell_type": "code",
      "source": [
        "#pop() func\n",
        "l1.pop(4)"
      ],
      "metadata": {
        "colab": {
          "base_uri": "https://localhost:8080/",
          "height": 35
        },
        "id": "2QKiclESU-4S",
        "outputId": "90dd3117-7010-4ff8-848e-370ee0bd4b48"
      },
      "execution_count": null,
      "outputs": [
        {
          "output_type": "execute_result",
          "data": {
            "text/plain": [
              "'R'"
            ],
            "application/vnd.google.colaboratory.intrinsic+json": {
              "type": "string"
            }
          },
          "metadata": {},
          "execution_count": 17
        }
      ]
    },
    {
      "cell_type": "code",
      "source": [
        "print(l1)"
      ],
      "metadata": {
        "colab": {
          "base_uri": "https://localhost:8080/"
        },
        "id": "rY5N_e2eVGLt",
        "outputId": "9866122b-bb64-48f1-ba24-56fd79c4e872"
      },
      "execution_count": null,
      "outputs": [
        {
          "output_type": "stream",
          "name": "stdout",
          "text": [
            "['AI', 'Python', 'NLP', 'CV', 'ML']\n"
          ]
        }
      ]
    },
    {
      "cell_type": "code",
      "source": [
        "l1.extend(['Deep learning','statistics','mathematics'])\n",
        "print(l1)"
      ],
      "metadata": {
        "colab": {
          "base_uri": "https://localhost:8080/"
        },
        "id": "VZmECb7CWA1M",
        "outputId": "758483fa-73fd-463b-bfbc-7a4a66043e3d"
      },
      "execution_count": null,
      "outputs": [
        {
          "output_type": "stream",
          "name": "stdout",
          "text": [
            "['AI', 'Python', 'NLP', 'CV', 'ML', 'statistics', 'Tableau', 'Power bi', 'statistics', 'Tableau', 'Power bi', 'statistics', 'Tableau', 'Power bi', 'statistics', 'Tableau', 'Power bi', 'statistics', 'Tableau', 'Power bi', 'statistics', 'Tableau', 'Power bi', 'tableau', 'power bi', 'statistics', 'Deep learning', 'statistics', 'mathematics']\n"
          ]
        }
      ]
    },
    {
      "cell_type": "code",
      "source": [
        "l1.insert(3,['dl','ml'])\n",
        "print(l1)"
      ],
      "metadata": {
        "colab": {
          "base_uri": "https://localhost:8080/"
        },
        "id": "Vl1pi__3Wek3",
        "outputId": "87d26992-b5ba-4680-ad70-223a253eff4b"
      },
      "execution_count": null,
      "outputs": [
        {
          "output_type": "stream",
          "name": "stdout",
          "text": [
            "['AI', 'Python', 'NLP', ['dl', 'ml'], 'CV', 'ML', 'statistics', 'Tableau', 'Power bi', 'statistics', 'Tableau', 'Power bi', 'statistics', 'Tableau', 'Power bi', 'statistics', 'Tableau', 'Power bi', 'statistics', 'Tableau', 'Power bi', 'statistics', 'Tableau', 'Power bi', 'tableau', 'power bi', 'statistics', 'Deep learning', 'statistics', 'mathematics']\n"
          ]
        }
      ]
    },
    {
      "cell_type": "code",
      "source": [
        "#in above example, to fetch the element of dl and ml\n",
        "l1[3][0:]\n",
        "l1[3][0:2]"
      ],
      "metadata": {
        "colab": {
          "base_uri": "https://localhost:8080/"
        },
        "id": "KKZ9LAbtXcP5",
        "outputId": "501f56b4-01ab-42d9-9fdc-7d5e3c86820f"
      },
      "execution_count": null,
      "outputs": [
        {
          "output_type": "execute_result",
          "data": {
            "text/plain": [
              "['dl', 'ml']"
            ]
          },
          "metadata": {},
          "execution_count": 38
        }
      ]
    },
    {
      "cell_type": "code",
      "source": [
        "l2=(1,2,3,4,5,6,7,8,9,1,2,3,4,5,5,6,6,4,5,2,3,1,2,3,9,9,7,7,5,2,3)\n",
        "len(l2)\n"
      ],
      "metadata": {
        "colab": {
          "base_uri": "https://localhost:8080/"
        },
        "id": "UCpAhyOXWsc_",
        "outputId": "9db811e4-fa39-4a64-ae7b-e0ada613c7c7"
      },
      "execution_count": null,
      "outputs": [
        {
          "output_type": "execute_result",
          "data": {
            "text/plain": [
              "31"
            ]
          },
          "metadata": {},
          "execution_count": 31
        }
      ]
    },
    {
      "cell_type": "code",
      "source": [
        "max(l2)"
      ],
      "metadata": {
        "colab": {
          "base_uri": "https://localhost:8080/"
        },
        "id": "fqDNLBj_W_O9",
        "outputId": "d1b9af9b-c8e3-48c3-a647-f60787a416ab"
      },
      "execution_count": null,
      "outputs": [
        {
          "output_type": "execute_result",
          "data": {
            "text/plain": [
              "9"
            ]
          },
          "metadata": {},
          "execution_count": 32
        }
      ]
    },
    {
      "cell_type": "code",
      "source": [
        "min(l2)"
      ],
      "metadata": {
        "colab": {
          "base_uri": "https://localhost:8080/"
        },
        "id": "ZlC-a7OMXBjG",
        "outputId": "ff00d63b-0f2e-4174-a719-216a50e90d5c"
      },
      "execution_count": null,
      "outputs": [
        {
          "output_type": "execute_result",
          "data": {
            "text/plain": [
              "1"
            ]
          },
          "metadata": {},
          "execution_count": 33
        }
      ]
    },
    {
      "cell_type": "code",
      "source": [
        "l2.count(7)"
      ],
      "metadata": {
        "colab": {
          "base_uri": "https://localhost:8080/"
        },
        "id": "xp-xYX6eXDTG",
        "outputId": "26f20b22-5af1-48d2-d23b-2f2ba6692757"
      },
      "execution_count": null,
      "outputs": [
        {
          "output_type": "execute_result",
          "data": {
            "text/plain": [
              "3"
            ]
          },
          "metadata": {},
          "execution_count": 35
        }
      ]
    },
    {
      "cell_type": "code",
      "source": [
        "sum(l2)"
      ],
      "metadata": {
        "colab": {
          "base_uri": "https://localhost:8080/"
        },
        "id": "zJ7Yh3_AXHIo",
        "outputId": "f7099a87-6c9c-46c1-dbed-73917b3bc597"
      },
      "execution_count": null,
      "outputs": [
        {
          "output_type": "execute_result",
          "data": {
            "text/plain": [
              "139"
            ]
          },
          "metadata": {},
          "execution_count": 36
        }
      ]
    },
    {
      "cell_type": "code",
      "source": [
        "my_list = ['varanasi','lucknow','kanpur',['UP','MP',['delhi','faridabad','noida']]]\n",
        "print(my_list[1:2]+my_list[3][0:2])"
      ],
      "metadata": {
        "id": "g3TCGKwlXOia",
        "colab": {
          "base_uri": "https://localhost:8080/"
        },
        "outputId": "736e1422-508e-4122-b305-3e692d60dead"
      },
      "execution_count": null,
      "outputs": [
        {
          "output_type": "stream",
          "name": "stdout",
          "text": [
            "['lucknow', 'UP', 'MP']\n"
          ]
        }
      ]
    },
    {
      "cell_type": "code",
      "source": [
        "my_list[3][2][ : : -1]\n",
        "\n",
        "\n"
      ],
      "metadata": {
        "colab": {
          "base_uri": "https://localhost:8080/"
        },
        "id": "czgwyyXvNlJk",
        "outputId": "e529ec47-7fcb-437c-f7e9-0b0e3a65ad0e"
      },
      "execution_count": null,
      "outputs": [
        {
          "output_type": "execute_result",
          "data": {
            "text/plain": [
              "['noida', 'faridabad', 'delhi']"
            ]
          },
          "metadata": {},
          "execution_count": 52
        }
      ]
    },
    {
      "cell_type": "code",
      "source": [
        "my_list[0:3][ : : -1]"
      ],
      "metadata": {
        "colab": {
          "base_uri": "https://localhost:8080/"
        },
        "id": "o8wUJLcpYaJV",
        "outputId": "e9ceadd2-fe92-4f1d-e1d9-f7e9dda689b2"
      },
      "execution_count": null,
      "outputs": [
        {
          "output_type": "execute_result",
          "data": {
            "text/plain": [
              "['kanpur', 'lucknow', 'varanasi']"
            ]
          },
          "metadata": {},
          "execution_count": 61
        }
      ]
    },
    {
      "cell_type": "code",
      "source": [
        "a= my_list[3][2][2]\n",
        "\n",
        "b=my_list[0]\n",
        "\n",
        "print(a+' '+b)"
      ],
      "metadata": {
        "colab": {
          "base_uri": "https://localhost:8080/"
        },
        "id": "f2Ka3YwYZiKM",
        "outputId": "dc8d732e-b7f7-4173-9f24-97898f26a8ce"
      },
      "execution_count": null,
      "outputs": [
        {
          "output_type": "stream",
          "name": "stdout",
          "text": [
            "noida varanasi\n"
          ]
        }
      ]
    },
    {
      "cell_type": "markdown",
      "source": [
        "Dictionaries"
      ],
      "metadata": {
        "id": "bOjUNdOTj3Gh"
      }
    },
    {
      "cell_type": "code",
      "source": [
        "memo={'notebook':90,'pens':100,'cold drink':120,'chips':20}\n",
        "print(memo)\n"
      ],
      "metadata": {
        "colab": {
          "base_uri": "https://localhost:8080/"
        },
        "id": "-C7i0AMHaxo1",
        "outputId": "c17d1cb4-7947-4e50-f535-4da4825716df"
      },
      "execution_count": null,
      "outputs": [
        {
          "output_type": "stream",
          "name": "stdout",
          "text": [
            "{'notebook': 90, 'pens': 100, 'cold drink': 120, 'chips': 20}\n"
          ]
        }
      ]
    },
    {
      "cell_type": "code",
      "source": [
        "type(memo)"
      ],
      "metadata": {
        "colab": {
          "base_uri": "https://localhost:8080/"
        },
        "id": "aN13b0TykHyk",
        "outputId": "f0a79b88-1af0-4905-d095-7e43781a59e3"
      },
      "execution_count": null,
      "outputs": [
        {
          "output_type": "execute_result",
          "data": {
            "text/plain": [
              "dict"
            ]
          },
          "metadata": {},
          "execution_count": 83
        }
      ]
    },
    {
      "cell_type": "code",
      "source": [
        "#in order to fetch the values, we use name of keys and not the index numbers\n",
        "memo['chips']\n"
      ],
      "metadata": {
        "colab": {
          "base_uri": "https://localhost:8080/"
        },
        "id": "FakBI0XLkLK3",
        "outputId": "1cc82ef9-e0bd-4d8a-b05d-ea9c92cb8ab6"
      },
      "execution_count": null,
      "outputs": [
        {
          "output_type": "execute_result",
          "data": {
            "text/plain": [
              "20"
            ]
          },
          "metadata": {},
          "execution_count": 84
        }
      ]
    },
    {
      "cell_type": "code",
      "source": [
        "memo['pens']"
      ],
      "metadata": {
        "colab": {
          "base_uri": "https://localhost:8080/"
        },
        "id": "qFlVyrttkaW5",
        "outputId": "5482cf43-fe40-41a9-b3f6-cfb83be3b3a1"
      },
      "execution_count": null,
      "outputs": [
        {
          "output_type": "execute_result",
          "data": {
            "text/plain": [
              "100"
            ]
          },
          "metadata": {},
          "execution_count": 85
        }
      ]
    },
    {
      "cell_type": "code",
      "source": [
        "#in dict, slicing is not supported, why because, the concept of indexing number is itself is not possible in dict. if that is not possible then how can we use slicing here.\n",
        "memo[1:3] #the error expained above"
      ],
      "metadata": {
        "colab": {
          "base_uri": "https://localhost:8080/",
          "height": 176
        },
        "id": "7ZtioGpikctA",
        "outputId": "823091c4-6331-46e1-f35e-fb64a5c34431"
      },
      "execution_count": null,
      "outputs": [
        {
          "output_type": "error",
          "ename": "TypeError",
          "evalue": "unhashable type: 'slice'",
          "traceback": [
            "\u001b[0;31m---------------------------------------------------------------------------\u001b[0m",
            "\u001b[0;31mTypeError\u001b[0m                                 Traceback (most recent call last)",
            "\u001b[0;32m<ipython-input-86-3fc226558203>\u001b[0m in \u001b[0;36m<cell line: 2>\u001b[0;34m()\u001b[0m\n\u001b[1;32m      1\u001b[0m \u001b[0;31m#in dict, slicing is not supported, why because, the concept of indexing number is itself is not possible in dict. if that is not possible then how can we use slicing here.\u001b[0m\u001b[0;34m\u001b[0m\u001b[0;34m\u001b[0m\u001b[0m\n\u001b[0;32m----> 2\u001b[0;31m \u001b[0mmemo\u001b[0m\u001b[0;34m[\u001b[0m\u001b[0;36m1\u001b[0m\u001b[0;34m:\u001b[0m\u001b[0;36m3\u001b[0m\u001b[0;34m]\u001b[0m\u001b[0;34m\u001b[0m\u001b[0;34m\u001b[0m\u001b[0m\n\u001b[0m",
            "\u001b[0;31mTypeError\u001b[0m: unhashable type: 'slice'"
          ]
        }
      ]
    },
    {
      "cell_type": "code",
      "source": [
        "#adding new key value pair to  the dictionary\n",
        "memo['ice cream']=80\n",
        "print(memo)"
      ],
      "metadata": {
        "colab": {
          "base_uri": "https://localhost:8080/"
        },
        "id": "Fu41ak-Rk2RJ",
        "outputId": "1ef7529f-42cb-44fd-8c37-048ab8c2c102"
      },
      "execution_count": null,
      "outputs": [
        {
          "output_type": "stream",
          "name": "stdout",
          "text": [
            "{'notebook': 90, 'pens': 100, 'cold drink': 120, 'chips': 20, 'ice cream': 80}\n"
          ]
        }
      ]
    },
    {
      "cell_type": "code",
      "source": [
        "memo['bread']=40\n",
        "print(memo)"
      ],
      "metadata": {
        "colab": {
          "base_uri": "https://localhost:8080/"
        },
        "id": "e7KFFndul6CG",
        "outputId": "c2211986-cb0e-4c2d-be33-bf5b7f239419"
      },
      "execution_count": null,
      "outputs": [
        {
          "output_type": "stream",
          "name": "stdout",
          "text": [
            "{'notebook': 90, 'pens': 100, 'cold drink': 120, 'chips': 20, 'ice cream': 80, 'bread': 40}\n"
          ]
        }
      ]
    },
    {
      "cell_type": "code",
      "source": [
        "#to  modify the existing element # in the output, price of the cold drink has been changed\n",
        "memo['cold drink']=70\n",
        "print(memo)"
      ],
      "metadata": {
        "colab": {
          "base_uri": "https://localhost:8080/"
        },
        "id": "xb-jtFYdmXH8",
        "outputId": "2b20bbab-6ad9-408b-d7c7-1dc4c893022d"
      },
      "execution_count": null,
      "outputs": [
        {
          "output_type": "stream",
          "name": "stdout",
          "text": [
            "{'notebook': 90, 'pens': 100, 'cold drink': 70, 'chips': 20, 'ice cream': 80, 'bread': 40}\n"
          ]
        }
      ]
    },
    {
      "cell_type": "code",
      "source": [
        "#to delete the existkey value pair\n",
        "del memo['notebook']\n",
        "print(memo)"
      ],
      "metadata": {
        "colab": {
          "base_uri": "https://localhost:8080/"
        },
        "id": "r6-esu-8nU1N",
        "outputId": "c4621e2e-a17b-4f9c-a51f-c6ad84149975"
      },
      "execution_count": null,
      "outputs": [
        {
          "output_type": "stream",
          "name": "stdout",
          "text": [
            "{'pens': 100, 'cold drink': 70, 'chips': 20, 'ice cream': 80, 'bread': 40}\n"
          ]
        }
      ]
    },
    {
      "cell_type": "markdown",
      "source": [
        "Tuple data structure"
      ],
      "metadata": {
        "id": "wzD3p_v9sxIk"
      }
    },
    {
      "cell_type": "code",
      "source": [
        "t=('india','usa',80,200,-451,-45.98,-9.8)\n",
        "type(t)"
      ],
      "metadata": {
        "colab": {
          "base_uri": "https://localhost:8080/"
        },
        "id": "3VnhxPRHobqh",
        "outputId": "9621d948-d803-493d-ed68-3f328943a2cc"
      },
      "execution_count": null,
      "outputs": [
        {
          "output_type": "execute_result",
          "data": {
            "text/plain": [
              "tuple"
            ]
          },
          "metadata": {},
          "execution_count": 92
        }
      ]
    },
    {
      "cell_type": "code",
      "source": [
        "#indexing in tuple\n",
        "t[1]"
      ],
      "metadata": {
        "colab": {
          "base_uri": "https://localhost:8080/",
          "height": 35
        },
        "id": "t87vwucCtFlR",
        "outputId": "4fd467d8-2393-4a19-9fd3-b520d21a80c8"
      },
      "execution_count": null,
      "outputs": [
        {
          "output_type": "execute_result",
          "data": {
            "text/plain": [
              "'usa'"
            ],
            "application/vnd.google.colaboratory.intrinsic+json": {
              "type": "string"
            }
          },
          "metadata": {},
          "execution_count": 93
        }
      ]
    },
    {
      "cell_type": "code",
      "source": [
        "#slicing\n",
        "t[0:3]"
      ],
      "metadata": {
        "colab": {
          "base_uri": "https://localhost:8080/"
        },
        "id": "cuL9CncgtNml",
        "outputId": "5a2ab372-bd08-4ee5-e689-ce4438832a08"
      },
      "execution_count": null,
      "outputs": [
        {
          "output_type": "execute_result",
          "data": {
            "text/plain": [
              "('india', 'usa', 80)"
            ]
          },
          "metadata": {},
          "execution_count": 94
        }
      ]
    },
    {
      "cell_type": "code",
      "source": [
        "#altering is not possible\n",
        "t[0]='pakistan'\n"
      ],
      "metadata": {
        "colab": {
          "base_uri": "https://localhost:8080/",
          "height": 159
        },
        "id": "Viu3O2kitTJQ",
        "outputId": "36215f9e-f839-45c1-fd71-7a23638df590"
      },
      "execution_count": null,
      "outputs": [
        {
          "output_type": "error",
          "ename": "TypeError",
          "evalue": "'tuple' object does not support item assignment",
          "traceback": [
            "\u001b[0;31m---------------------------------------------------------------------------\u001b[0m",
            "\u001b[0;31mTypeError\u001b[0m                                 Traceback (most recent call last)",
            "\u001b[0;32m<ipython-input-95-6dac8ae151a3>\u001b[0m in \u001b[0;36m<cell line: 2>\u001b[0;34m()\u001b[0m\n\u001b[1;32m      1\u001b[0m \u001b[0;31m#altering is not possible\u001b[0m\u001b[0;34m\u001b[0m\u001b[0;34m\u001b[0m\u001b[0m\n\u001b[0;32m----> 2\u001b[0;31m \u001b[0mt\u001b[0m\u001b[0;34m[\u001b[0m\u001b[0;36m0\u001b[0m\u001b[0;34m]\u001b[0m\u001b[0;34m=\u001b[0m\u001b[0;34m'pakistan'\u001b[0m\u001b[0;34m\u001b[0m\u001b[0;34m\u001b[0m\u001b[0m\n\u001b[0m",
            "\u001b[0;31mTypeError\u001b[0m: 'tuple' object does not support item assignment"
          ]
        }
      ]
    },
    {
      "cell_type": "code",
      "source": [
        "#que\n",
        "students={1:'aditya',2:'chinag',3:'kunal',4:'zoya'}\n",
        "print(students)"
      ],
      "metadata": {
        "colab": {
          "base_uri": "https://localhost:8080/"
        },
        "id": "oLb17y6VuX-J",
        "outputId": "10b34125-c8fb-41d8-ed1b-f78c66ce859d"
      },
      "execution_count": null,
      "outputs": [
        {
          "output_type": "stream",
          "name": "stdout",
          "text": [
            "{1: 'aditya', 2: 'chinag', 3: 'kunal', 4: 'zoya'}\n"
          ]
        }
      ]
    },
    {
      "cell_type": "code",
      "source": [
        "students[4]='Zareen'\n",
        "print(students)"
      ],
      "metadata": {
        "colab": {
          "base_uri": "https://localhost:8080/"
        },
        "id": "yhxfLMLwwYtW",
        "outputId": "e9646c2f-ccd5-445c-a313-198a374bfb80"
      },
      "execution_count": null,
      "outputs": [
        {
          "output_type": "stream",
          "name": "stdout",
          "text": [
            "{1: 'aditya', 2: 'chinag', 3: 'kunal', 4: 'Zareen'}\n"
          ]
        }
      ]
    },
    {
      "cell_type": "code",
      "source": [
        "#what if I have to change the key value?\n",
        "students[4]='Zareen'\n",
        "print(students)"
      ],
      "metadata": {
        "id": "A5-uw6ZZwnet"
      },
      "execution_count": null,
      "outputs": []
    },
    {
      "cell_type": "code",
      "source": [
        "students[5]='meera'\n",
        "print(students)"
      ],
      "metadata": {
        "colab": {
          "base_uri": "https://localhost:8080/"
        },
        "id": "4PzdTZgNw8ta",
        "outputId": "8662edf7-f385-45c4-8d4d-541348f5ac99"
      },
      "execution_count": null,
      "outputs": [
        {
          "output_type": "stream",
          "name": "stdout",
          "text": [
            "{1: 'aditya', 2: 'chinag', 3: 'kunal', 4: 'Zareen', 'meera': 5, 5: 'meera'}\n"
          ]
        }
      ]
    },
    {
      "cell_type": "code",
      "source": [
        "del students['meera']\n",
        "print(students)"
      ],
      "metadata": {
        "colab": {
          "base_uri": "https://localhost:8080/"
        },
        "id": "UlmH6qMXxT56",
        "outputId": "c9350db3-1505-43e1-9943-e55af2191ff2"
      },
      "execution_count": null,
      "outputs": [
        {
          "output_type": "stream",
          "name": "stdout",
          "text": [
            "{1: 'aditya', 2: 'chinag', 3: 'kunal', 4: 'Zareen', 5: 'meera'}\n"
          ]
        }
      ]
    },
    {
      "cell_type": "code",
      "source": [
        "students[4]='8'\n",
        "print(students)"
      ],
      "metadata": {
        "colab": {
          "base_uri": "https://localhost:8080/"
        },
        "id": "ObZpvM2Vxmin",
        "outputId": "33c34d44-d8c0-4c26-f9eb-7cfabf433819"
      },
      "execution_count": null,
      "outputs": [
        {
          "output_type": "stream",
          "name": "stdout",
          "text": [
            "{1: 'aditya', 2: 'chinag', 3: 'kunal', 4: '8', 5: 'meera', 'Zareen': '8'}\n"
          ]
        }
      ]
    },
    {
      "cell_type": "markdown",
      "source": [
        "Sets data structure\n"
      ],
      "metadata": {
        "id": "eXa6M3D8tkSQ"
      }
    },
    {
      "cell_type": "code",
      "source": [
        "s={'india','usa',80,200,-451,-45.98,-9.8}\n",
        "type(s)\n"
      ],
      "metadata": {
        "colab": {
          "base_uri": "https://localhost:8080/"
        },
        "id": "OcmtMBc-tp05",
        "outputId": "11cfb236-2ac5-4734-ae6a-2458d9e2e4d7"
      },
      "execution_count": null,
      "outputs": [
        {
          "output_type": "execute_result",
          "data": {
            "text/plain": [
              "set"
            ]
          },
          "metadata": {},
          "execution_count": 118
        }
      ]
    },
    {
      "cell_type": "code",
      "source": [
        "print(s) # the entire order of the output has git changed. when the order is change the indexing number also gets changed because of this we cannot perform indexing in sets\n"
      ],
      "metadata": {
        "colab": {
          "base_uri": "https://localhost:8080/"
        },
        "id": "VQVauPQ2-UhM",
        "outputId": "5c1ae024-efa2-4872-ccef-f481bf1c4bac"
      },
      "execution_count": null,
      "outputs": [
        {
          "output_type": "stream",
          "name": "stdout",
          "text": [
            "{80, -45.98, -9.8, 200, 'india', -451, 'usa'}\n"
          ]
        }
      ]
    },
    {
      "cell_type": "code",
      "source": [],
      "metadata": {
        "id": "R9u6pyPs-WV4"
      },
      "execution_count": null,
      "outputs": []
    }
  ],
  "metadata": {
    "colab": {
      "provenance": [],
      "authorship_tag": "ABX9TyPeyW2IjcZqgzg3SSbAUgHf",
      "include_colab_link": true
    },
    "kernelspec": {
      "display_name": "Python 3",
      "name": "python3"
    },
    "language_info": {
      "name": "python"
    }
  },
  "nbformat": 4,
  "nbformat_minor": 0
}